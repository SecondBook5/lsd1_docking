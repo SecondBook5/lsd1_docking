{
 "cells": [
  {
   "cell_type": "markdown",
   "id": "4a1b5d9b",
   "metadata": {},
   "source": [
    "# LSD1 Binding to ORY-1001 and GSK2879552 KDM1A Inhibitors\n",
    "---\n",
    "\n",
    "### Step 1: Download Ligand Structures from PubChem\n",
    "In this step, we’ll download the structures for ORY-1001 and GSK2879552 from PubChem in SDF format. Each structure will be saved locally in a designated folder called `ligands`."
   ]
  },
  {
   "cell_type": "code",
   "execution_count": 1,
   "id": "cf1d0253",
   "metadata": {},
   "outputs": [
    {
     "name": "stdout",
     "output_type": "stream",
     "text": [
      "Ligand ORY1001 saved as ligands/ory1001.sdf\n",
      "Ligand GSK2879552 saved as ligands/gsk2879552.sdf\n"
     ]
    }
   ],
   "source": [
    "import requests\n",
    "import os\n",
    "\n",
    "# Define CIDs for ORY-1001 and GSK2879552\n",
    "ligands = {\n",
    "    \"ORY1001\": 71543365,\n",
    "    \"GSK2879552\": 66571643\n",
    "}\n",
    "\n",
    "# Create a folder to store ligand files\n",
    "os.makedirs(\"ligands\", exist_ok=True)\n",
    "\n",
    "# Download and save SDF files for each ligand\n",
    "for ligand_name, cid in ligands.items():\n",
    "    sdf_url = f\"https://pubchem.ncbi.nlm.nih.gov/rest/pug/compound/cid/{\n",
    "        cid}/SDF\"\n",
    "    response = requests.get(sdf_url)\n",
    "\n",
    "    # Check if the response is successful\n",
    "    if response.status_code == 200:\n",
    "        with open(f\"ligands/{ligand_name.lower()}.sdf\", \"wb\") as file:\n",
    "            file.write(response.content)\n",
    "        print(\n",
    "            f\"Ligand {ligand_name} saved as ligands/{ligand_name.lower()}.sdf\")\n",
    "    else:\n",
    "        print(\n",
    "            f\"Failed to download {ligand_name}. Status code:\", response.status_code)"
   ]
  },
  {
   "cell_type": "markdown",
   "id": "88e78515",
   "metadata": {},
   "source": [
    "### Step 2: Optimize Ligand Structures\n",
    "Using RDKit, we’ll load the SDF files, add hydrogens to each molecule, and optimize their 3D structures. The optimized structures will be saved in PDB format."
   ]
  },
  {
   "cell_type": "code",
   "execution_count": 2,
   "id": "1f2b1075",
   "metadata": {},
   "outputs": [
    {
     "name": "stdout",
     "output_type": "stream",
     "text": [
      "Ligand ORY1001 optimized and saved as ligands/ory1001_optimized.pdb\n",
      "Ligand GSK2879552 optimized and saved as ligands/gsk2879552_optimized.pdb\n"
     ]
    }
   ],
   "source": [
    "from rdkit import Chem\n",
    "from rdkit.Chem import AllChem\n",
    "import os\n",
    "\n",
    "# Define ligands and file paths\n",
    "ligands = {\n",
    "    \"ORY1001\": \"ligands/ory1001.sdf\",\n",
    "    \"GSK2879552\": \"ligands/gsk2879552.sdf\"\n",
    "}\n",
    "\n",
    "# Process each ligand\n",
    "for ligand_name, sdf_path in ligands.items():\n",
    "    # Load the compound from the SDF file\n",
    "    mol = Chem.MolFromMolFile(sdf_path)\n",
    "\n",
    "    if mol is not None:\n",
    "        # Add hydrogens to the molecule\n",
    "        mol = Chem.AddHs(mol)\n",
    "\n",
    "        # Embed and optimize the 3D structure\n",
    "        # randomSeed makes results reproducible\n",
    "        AllChem.EmbedMolecule(mol, randomSeed=0xf00d)\n",
    "        AllChem.UFFOptimizeMolecule(mol)\n",
    "\n",
    "        # Save optimized structure as PDB\n",
    "        pdb_path = f\"ligands/{ligand_name.lower()}_optimized.pdb\"\n",
    "        Chem.MolToPDBFile(mol, pdb_path)\n",
    "        print(f\"Ligand {ligand_name} optimized and saved as {pdb_path}\")\n",
    "    else:\n",
    "        print(f\"Failed to load {ligand_name} from {sdf_path}\")"
   ]
  },
  {
   "cell_type": "markdown",
   "id": "d300ad80",
   "metadata": {},
   "source": [
    "### Step 3: Download Protein Structure from RCSB PDB\n",
    "For docking, we need the target protein structure. Here, we’ll download the protein structure for LSD1 (PDB ID: 2UXX) and save it to a directory called `protein_structures`."
   ]
  },
  {
   "cell_type": "code",
   "execution_count": 3,
   "id": "b912d241",
   "metadata": {},
   "outputs": [
    {
     "name": "stdout",
     "output_type": "stream",
     "text": [
      "Downloaded 2UXX and saved to protein_structures/2UXX.pdb\n"
     ]
    }
   ],
   "source": [
    "import os\n",
    "import requests\n",
    "\n",
    "pdb_id = \"2UXX\"\n",
    "protein_directory = \"protein_structures\"\n",
    "os.makedirs(protein_directory, exist_ok=True)\n",
    "\n",
    "# Download protein structure\n",
    "pdb_request = requests.get(f\"https://files.rcsb.org/download/{pdb_id}.pdb\")\n",
    "with open(f\"{protein_directory}/{pdb_id}.pdb\", \"w\") as f:\n",
    "    f.write(pdb_request.text)\n",
    "print(f\"Downloaded {pdb_id} and saved to {protein_directory}/{pdb_id}.pdb\")"
   ]
  },
  {
   "cell_type": "markdown",
   "id": "a39ee82d",
   "metadata": {},
   "source": [
    "### Step 4: Clean and Prepare Protein Structure\n",
    "In this step, we’ll clean the downloaded protein structure by removing any extra molecules (such as water and ligands) and adding missing atoms and hydrogens. This prepares the protein for docking by ensuring it is in the correct state. We’ll use `pdbfixer` for this step\n",
    "\n",
    "1. **Load the Protein:** We start by loading the PDB file for our protein using `pdbfixer`, a tool designed to fix common issues in protein structures.\n",
    "2. **Remove Heterogens:** This command removes non-protein molecules from the structure. Here, we remove all water molecules and other non-standard residues.\n",
    "3. **Add Missing Atoms and Hydrogens:** The protein may have missing atoms, especially hydrogens and side chains. We add these, setting the protonation state for a neutral pH of 7.4.\n",
    "4. **Save the Cleaned Protein:** The cleaned protein structure is saved to a new file for the next steps.\n",
    "\n",
    "This process ensures that the protein is in the optimal condition for docking calculations in Step 6."
   ]
  },
  {
   "cell_type": "code",
   "execution_count": 4,
   "id": "98c19dfd",
   "metadata": {},
   "outputs": [
    {
     "name": "stdout",
     "output_type": "stream",
     "text": [
      "protein_structures/2UXX_cleaned.pdb already exists. Skipping cleaning step.\n"
     ]
    }
   ],
   "source": [
    "import os\n",
    "from tqdm import tqdm\n",
    "import pdbfixer\n",
    "from openmm.app import PDBFile\n",
    "\n",
    "# Define paths\n",
    "protein_path = \"protein_structures/2UXX.pdb\"\n",
    "cleaned_protein_path = \"protein_structures/2UXX_cleaned.pdb\"\n",
    "\n",
    "# Check if cleaned protein file already exists\n",
    "if os.path.exists(cleaned_protein_path):\n",
    "    print(f\"{cleaned_protein_path} already exists. Skipping cleaning step.\")\n",
    "else:\n",
    "    # Initialize tqdm for progress tracking\n",
    "    with tqdm(total=5, desc=\"Cleaning Protein Structure\") as progress:\n",
    "        \n",
    "        # Load the protein structure file into pdbfixer\n",
    "        fixer = pdbfixer.PDBFixer(filename=protein_path)\n",
    "        progress.update(1)  # Step 1: Loaded structure file\n",
    "        \n",
    "        # Remove water molecules and any non-standard residues\n",
    "        fixer.removeHeterogens(keepWater=False)\n",
    "        progress.update(1)  # Step 2: Removed heterogens\n",
    "        \n",
    "        # Add missing atoms and residues\n",
    "        fixer.findMissingResidues()\n",
    "        fixer.findMissingAtoms()\n",
    "        fixer.addMissingAtoms()\n",
    "        progress.update(1)  # Step 3: Added missing residues and atoms\n",
    "        \n",
    "        # Add missing hydrogens at pH 7.4\n",
    "        fixer.addMissingHydrogens(pH=7.4)\n",
    "        progress.update(1)  # Step 4: Added missing hydrogens\n",
    "\n",
    "        # Save the cleaned structure\n",
    "        with open(cleaned_protein_path, 'w') as outfile:\n",
    "            PDBFile.writeFile(fixer.topology, fixer.positions, outfile)\n",
    "        progress.update(1)  # Step 5: Saved cleaned structure\n",
    "        \n",
    "    print(f\"Cleaned protein saved as {cleaned_protein_path}\")\n"
   ]
  },
  {
   "cell_type": "code",
   "execution_count": 5,
   "id": "322dca3d-d931-4284-8898-31c2aa5e3653",
   "metadata": {},
   "outputs": [
    {
     "data": {
      "application/vnd.jupyter.widget-view+json": {
       "model_id": "e7b782726f6b4019b502334f211813b6",
       "version_major": 2,
       "version_minor": 0
      },
      "text/plain": []
     },
     "metadata": {},
     "output_type": "display_data"
    },
    {
     "data": {
      "application/vnd.jupyter.widget-view+json": {
       "model_id": "f7c6ac80f06347838d4f5ca18b056010",
       "version_major": 2,
       "version_minor": 0
      },
      "text/plain": [
       "NGLWidget()"
      ]
     },
     "metadata": {},
     "output_type": "display_data"
    }
   ],
   "source": [
    "import nglview as nv\n",
    "import py3Dmol\n",
    "\n",
    "# Load a sample molecule, for example, a pre-installed protein or local pdb file\n",
    "view = nv.show_structure_file(\"protein_structures/2UXX_cleaned.pdb\")\n",
    "\n",
    "# Display the molecule\n",
    "view\n"
   ]
  },
  {
   "cell_type": "markdown",
   "id": "5e55d7e3",
   "metadata": {},
   "source": [
    "### Step 5: Convert Protein to PDBQT Format\n",
    "AutoDock Vina requires both the protein and ligands to be in `PDBQT` format. We’ll use `Open Babel` to convert the cleaned protein structure to PDBQT."
   ]
  },
  {
   "cell_type": "code",
   "execution_count": 6,
   "id": "d1747e7e",
   "metadata": {
    "scrolled": true
   },
   "outputs": [
    {
     "name": "stdout",
     "output_type": "stream",
     "text": [
      "Starting protein conversion...\n",
      "Converted protein protein_structures/2UXX_cleaned.pdb to protein_structures/2UXX_cleaned.pdbqt\n"
     ]
    },
    {
     "name": "stderr",
     "output_type": "stream",
     "text": [
      "1 molecule converted\n"
     ]
    }
   ],
   "source": [
    "import os\n",
    "import subprocess\n",
    "\n",
    "# Paths for the input and output files\n",
    "protein_pdb_path = \"protein_structures/2UXX_cleaned.pdb\"\n",
    "protein_pdbqt_path = \"protein_structures/2UXX_cleaned.pdbqt\"\n",
    "\n",
    "# Function to convert the cleaned protein PDB to PDBQT format\n",
    "\n",
    "\n",
    "def convert_protein_to_pdbqt(input_path, output_path):\n",
    "    try:\n",
    "        # Use Open Babel to convert PDB to PDBQT, adding partial charges\n",
    "        subprocess.run([\"obabel\", input_path, \"-O\", output_path,\n",
    "                       \"--partialcharge\"], check=True)\n",
    "        print(f\"Converted protein {input_path} to {output_path}\")\n",
    "    except subprocess.CalledProcessError:\n",
    "        print(f\"Failed to convert {input_path} to {output_path}\")\n",
    "\n",
    "\n",
    "# Convert protein if the PDBQT file doesn’t already exist\n",
    "if not os.path.exists(protein_pdbqt_path):\n",
    "    print(\"Starting protein conversion...\")\n",
    "    convert_protein_to_pdbqt(protein_pdb_path, protein_pdbqt_path)\n",
    "else:\n",
    "    print(f\"Protein PDBQT file already exists at {protein_pdbqt_path}\")"
   ]
  },
  {
   "cell_type": "markdown",
   "id": "e287f99e",
   "metadata": {},
   "source": [
    "### Step 6: Convert Ligands to PDBQT Format with Meeko\n",
    "To prepare ligands for AutoDock Vina, we’ll use `Meeko` to convert the optimized ligands to `PDBQT` format."
   ]
  },
  {
   "cell_type": "code",
   "execution_count": null,
   "id": "701ef995",
   "metadata": {},
   "outputs": [
    {
     "ename": "ModuleNotFoundError",
     "evalue": "No module named 'rdkit.six'",
     "output_type": "error",
     "traceback": [
      "\u001b[0;31m---------------------------------------------------------------------------\u001b[0m",
      "\u001b[0;31mModuleNotFoundError\u001b[0m                       Traceback (most recent call last)",
      "Cell \u001b[0;32mIn[8], line 2\u001b[0m\n\u001b[1;32m      1\u001b[0m \u001b[38;5;66;03m# Import necessary libraries\u001b[39;00m\n\u001b[0;32m----> 2\u001b[0m \u001b[38;5;28;01mfrom\u001b[39;00m \u001b[38;5;21;01mmeeko\u001b[39;00m \u001b[38;5;28;01mimport\u001b[39;00m MoleculePreparation\n\u001b[1;32m      3\u001b[0m \u001b[38;5;28;01mfrom\u001b[39;00m \u001b[38;5;21;01mrdkit\u001b[39;00m \u001b[38;5;28;01mimport\u001b[39;00m Chem\n\u001b[1;32m      5\u001b[0m \u001b[38;5;66;03m# Function to prepare a ligand for docking using Meeko\u001b[39;00m\n",
      "File \u001b[0;32m~/miniconda3/envs/docking/lib/python3.12/site-packages/meeko/__init__.py:32\u001b[0m\n\u001b[1;32m     30\u001b[0m \u001b[38;5;28;01mfrom\u001b[39;00m \u001b[38;5;21;01m.\u001b[39;00m\u001b[38;5;21;01mreceptor_pdbqt\u001b[39;00m \u001b[38;5;28;01mimport\u001b[39;00m PDBQTReceptor\n\u001b[1;32m     31\u001b[0m \u001b[38;5;28;01mfrom\u001b[39;00m \u001b[38;5;21;01m.\u001b[39;00m\u001b[38;5;21;01mmolecule_pdbqt\u001b[39;00m \u001b[38;5;28;01mimport\u001b[39;00m PDBQTMolecule\n\u001b[0;32m---> 32\u001b[0m \u001b[38;5;28;01mfrom\u001b[39;00m \u001b[38;5;21;01m.\u001b[39;00m\u001b[38;5;21;01mrdkit_mol_create\u001b[39;00m \u001b[38;5;28;01mimport\u001b[39;00m RDKitMolCreate\n\u001b[1;32m     33\u001b[0m \u001b[38;5;28;01mfrom\u001b[39;00m \u001b[38;5;21;01m.\u001b[39;00m\u001b[38;5;21;01mreactive\u001b[39;00m \u001b[38;5;28;01mimport\u001b[39;00m reactive_typer\n\u001b[1;32m     34\u001b[0m \u001b[38;5;28;01mfrom\u001b[39;00m \u001b[38;5;21;01m.\u001b[39;00m\u001b[38;5;21;01mreactive\u001b[39;00m \u001b[38;5;28;01mimport\u001b[39;00m get_reactive_config\n",
      "File \u001b[0;32m~/miniconda3/envs/docking/lib/python3.12/site-packages/meeko/rdkit_mol_create.py:11\u001b[0m\n\u001b[1;32m      9\u001b[0m \u001b[38;5;28;01mfrom\u001b[39;00m \u001b[38;5;21;01mrdkit\u001b[39;00m\u001b[38;5;21;01m.\u001b[39;00m\u001b[38;5;21;01mGeometry\u001b[39;00m \u001b[38;5;28;01mimport\u001b[39;00m Point3D\n\u001b[1;32m     10\u001b[0m \u001b[38;5;28;01mfrom\u001b[39;00m \u001b[38;5;21;01mrdkit\u001b[39;00m\u001b[38;5;21;01m.\u001b[39;00m\u001b[38;5;21;01mChem\u001b[39;00m \u001b[38;5;28;01mimport\u001b[39;00m AllChem\n\u001b[0;32m---> 11\u001b[0m \u001b[38;5;28;01mfrom\u001b[39;00m \u001b[38;5;21;01mrdkit\u001b[39;00m\u001b[38;5;21;01m.\u001b[39;00m\u001b[38;5;21;01msix\u001b[39;00m \u001b[38;5;28;01mimport\u001b[39;00m StringIO\n\u001b[1;32m     12\u001b[0m \u001b[38;5;28;01mimport\u001b[39;00m \u001b[38;5;21;01mjson\u001b[39;00m\n\u001b[1;32m     13\u001b[0m \u001b[38;5;28;01mimport\u001b[39;00m \u001b[38;5;21;01mos\u001b[39;00m\n",
      "\u001b[0;31mModuleNotFoundError\u001b[0m: No module named 'rdkit.six'"
     ]
    }
   ],
   "source": []
  },
  {
   "cell_type": "markdown",
   "id": "7b22aaa3",
   "metadata": {},
   "source": [
    "### Step 7: Verify Prepared Files\n",
    "Finally, let’s check if all files are correctly prepared for docking. This should include:\n",
    "- `protein_structures/2UXX_cleaned.pdbqt`\n",
    "- `ligands/ORY1001.pdbqt`\n",
    "- `ligands/GSK2879552.pdbqt`"
   ]
  },
  {
   "cell_type": "code",
   "execution_count": null,
   "id": "69e81a85",
   "metadata": {},
   "outputs": [
    {
     "name": "stderr",
     "output_type": "stream",
     "text": [
      "1 molecule converted\n"
     ]
    },
    {
     "name": "stdout",
     "output_type": "stream",
     "text": [
      "Ligand preparation complete. Output saved to ligands/ory1001_optimized.pdbqt\n",
      "Ligand preparation complete. Output saved to ligands/gsk2879552_optimized.pdbqt\n"
     ]
    },
    {
     "name": "stderr",
     "output_type": "stream",
     "text": [
      "1 molecule converted\n"
     ]
    }
   ],
   "source": [
    "# Import necessary libraries\n",
    "import subprocess\n",
    "\n",
    "# Function to prepare a ligand for docking using Open Babel\n",
    "\n",
    "\n",
    "def prepare_ligand_for_docking(input_pdb_file: str, output_pdbqt_file: str) -> None:\n",
    "    \"\"\"\n",
    "    Prepares a ligand for docking using Open Babel.\n",
    "\n",
    "    Args:\n",
    "        input_pdb_file (str): Path to the input PDB file of the ligand.\n",
    "        output_pdbqt_file (str): Path to the output PDBQT file for docking.\n",
    "    \"\"\"\n",
    "    #Use Open Babel to convert the input PDB file to PDBQT format\n",
    "    # Open Babel command: obabel input.pdb -O output.pdbqt --gen3d\n",
    "    try:\n",
    "        subprocess.run([\n",
    "            \"obabel\", input_pdb_file, \"-O\", output_pdbqt_file, \"--gen3d\"\n",
    "        ], check=True)\n",
    "        print(f\"Ligand preparation complete. Output saved to {\n",
    "              output_pdbqt_file}\")\n",
    "    except subprocess.CalledProcessError as e:\n",
    "        print(f\"Error during ligand preparation: {e}\")\n",
    "\n",
    "\n",
    "# Example usage of the function (in a Jupyter Notebook cell)\n",
    "# Input PDB files for the ligands\n",
    "input_ligand_files = [\n",
    "    \"ligands/ory1001_optimized.pdb\",\n",
    "    \"ligands/gsk2879552_optimized.pdb\"\n",
    "]\n",
    "\n",
    "# Loop through each ligand file and prepare it for docking\n",
    "for input_file in input_ligand_files:\n",
    "    # Derive the output filename by replacing the extension\n",
    "    output_file = input_file.replace(\".pdb\", \".pdbqt\")\n",
    "\n",
    "    # Prepare the ligand using Open Babel\n",
    "    prepare_ligand_for_docking(input_file, output_file)"
   ]
  },
  {
   "cell_type": "code",
   "execution_count": 12,
   "id": "d962a4cb",
   "metadata": {},
   "outputs": [
    {
     "name": "stdout",
     "output_type": "stream",
     "text": [
      "#################################################################\n",
      "# If you used AutoDock Vina in your work, please cite:          #\n",
      "#                                                               #\n",
      "# O. Trott, A. J. Olson,                                        #\n",
      "# AutoDock Vina: improving the speed and accuracy of docking    #\n",
      "# with a new scoring function, efficient optimization and       #\n",
      "# multithreading, Journal of Computational Chemistry 31 (2010)  #\n",
      "# 455-461                                                       #\n",
      "#                                                               #\n",
      "# DOI 10.1002/jcc.21334                                         #\n",
      "#                                                               #\n",
      "# Please see http://vina.scripps.edu for more information.      #\n",
      "#################################################################\n",
      "\n",
      "Detected 12 CPUs\n",
      "WARNING: at low exhaustiveness, it may be impossible to utilize all CPUs\n",
      "Reading input ... \n",
      "\n",
      "Parse error on line 4081 in file \"protein_structures/2UXX_cleaned.pdbqt\": Unknown or inappropriate tag\n"
     ]
    },
    {
     "name": "stderr",
     "output_type": "stream",
     "text": [
      "/home/secondbook5/miniconda3/envs/docking/lib/python3.12/pty.py:95: DeprecationWarning: This process (pid=316504) is multi-threaded, use of forkpty() may lead to deadlocks in the child.\n",
      "  pid, fd = os.forkpty()\n"
     ]
    }
   ],
   "source": [
    "# Run AutoDock Vina directly in Jupyter cell\n",
    "!vina --config config.txt --out output_docked.pdbqt\n"
   ]
  },
  {
   "cell_type": "code",
   "execution_count": null,
   "id": "ca2448ae",
   "metadata": {},
   "outputs": [],
   "source": [
    "# Run this in a terminal or Jupyter notebook cell with `!` prefix\n",
    "!pdb2pqr --pdb-output=protein_structures/protein_h.pdb --pH=7.4 protein_structures/2UXX.pdb protein_structures/2UXX.pqr --whitespace\n"
   ]
  },
  {
   "cell_type": "code",
   "execution_count": null,
   "id": "94d92143",
   "metadata": {},
   "outputs": [],
   "source": [
    "import nglview as nv\n",
    "from rdkit import Chem\n",
    "from rdkit.Chem import AllChem\n",
    "\n",
    "# Load the SDF file for ORY-1001\n",
    "ligand = Chem.MolFromMolFile(\"ligands/ory1001.sdf\")\n",
    "\n",
    "# Add hydrogens and optimize the geometry\n",
    "ligand = Chem.AddHs(ligand)\n",
    "AllChem.EmbedMolecule(ligand)\n",
    "AllChem.UFFOptimizeMolecule(ligand)\n",
    "\n",
    "# Save the ligand as a PDB file for visualization\n",
    "Chem.MolToPDBFile(ligand, \"ligands/ory1001.pdb\")\n",
    "\n",
    "# Use NGLView to visualize the molecule\n",
    "view = nv.show_file(\"ligands/ory1001.pdb\")  # Load the saved PDB file\n",
    "view.add_ball_and_stick()  # Set the visualization style to \"ball and stick\"\n",
    "view"
   ]
  }
 ],
 "metadata": {
  "kernelspec": {
   "display_name": "docking",
   "language": "python",
   "name": "python3"
  },
  "language_info": {
   "codemirror_mode": {
    "name": "ipython",
    "version": 3
   },
   "file_extension": ".py",
   "mimetype": "text/x-python",
   "name": "python",
   "nbconvert_exporter": "python",
   "pygments_lexer": "ipython3",
   "version": "3.12.7"
  }
 },
 "nbformat": 4,
 "nbformat_minor": 5
}
